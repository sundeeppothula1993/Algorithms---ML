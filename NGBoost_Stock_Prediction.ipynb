{
 "cells": [
  {
   "cell_type": "markdown",
   "metadata": {},
   "source": [
    "#### Install Libraries"
   ]
  },
  {
   "cell_type": "code",
   "execution_count": 1,
   "metadata": {},
   "outputs": [],
   "source": [
    "import pandas as pd\n",
    "import numpy as np\n",
    "from ngboost import NGBRegressor\n",
    "from sklearn.model_selection import train_test_split\n",
    "from sklearn.metrics import mean_squared_error\n",
    "import quandl\n",
    "import datetime\n",
    "import matplotlib.pyplot as plt\n",
    "import seaborn as sns\n",
    "%matplotlib inline"
   ]
  },
  {
   "cell_type": "markdown",
   "metadata": {},
   "source": [
    "#### Load Data from Quandl"
   ]
  },
  {
   "cell_type": "code",
   "execution_count": 2,
   "metadata": {},
   "outputs": [],
   "source": [
    "# Quandl API Auth\n",
    "API_KEY = 'vNe88aqJKyem7vKwubjx'\n",
    "df = quandl.get(\"WIKI/AAPL\", authtoken=API_KEY)"
   ]
  },
  {
   "cell_type": "code",
   "execution_count": 3,
   "metadata": {},
   "outputs": [
    {
     "data": {
      "text/html": [
       "<div>\n",
       "<style scoped>\n",
       "    .dataframe tbody tr th:only-of-type {\n",
       "        vertical-align: middle;\n",
       "    }\n",
       "\n",
       "    .dataframe tbody tr th {\n",
       "        vertical-align: top;\n",
       "    }\n",
       "\n",
       "    .dataframe thead th {\n",
       "        text-align: right;\n",
       "    }\n",
       "</style>\n",
       "<table border=\"1\" class=\"dataframe\">\n",
       "  <thead>\n",
       "    <tr style=\"text-align: right;\">\n",
       "      <th></th>\n",
       "      <th>Open</th>\n",
       "      <th>High</th>\n",
       "      <th>Low</th>\n",
       "      <th>Close</th>\n",
       "      <th>Volume</th>\n",
       "      <th>Ex-Dividend</th>\n",
       "      <th>Split Ratio</th>\n",
       "      <th>Adj. Open</th>\n",
       "      <th>Adj. High</th>\n",
       "      <th>Adj. Low</th>\n",
       "      <th>Adj. Close</th>\n",
       "      <th>Adj. Volume</th>\n",
       "    </tr>\n",
       "    <tr>\n",
       "      <th>Date</th>\n",
       "      <th></th>\n",
       "      <th></th>\n",
       "      <th></th>\n",
       "      <th></th>\n",
       "      <th></th>\n",
       "      <th></th>\n",
       "      <th></th>\n",
       "      <th></th>\n",
       "      <th></th>\n",
       "      <th></th>\n",
       "      <th></th>\n",
       "      <th></th>\n",
       "    </tr>\n",
       "  </thead>\n",
       "  <tbody>\n",
       "    <tr>\n",
       "      <th>1980-12-12</th>\n",
       "      <td>28.75</td>\n",
       "      <td>28.87</td>\n",
       "      <td>28.75</td>\n",
       "      <td>28.75</td>\n",
       "      <td>2093900.0</td>\n",
       "      <td>0.0</td>\n",
       "      <td>1.0</td>\n",
       "      <td>0.422706</td>\n",
       "      <td>0.424470</td>\n",
       "      <td>0.422706</td>\n",
       "      <td>0.422706</td>\n",
       "      <td>117258400.0</td>\n",
       "    </tr>\n",
       "    <tr>\n",
       "      <th>1980-12-15</th>\n",
       "      <td>27.38</td>\n",
       "      <td>27.38</td>\n",
       "      <td>27.25</td>\n",
       "      <td>27.25</td>\n",
       "      <td>785200.0</td>\n",
       "      <td>0.0</td>\n",
       "      <td>1.0</td>\n",
       "      <td>0.402563</td>\n",
       "      <td>0.402563</td>\n",
       "      <td>0.400652</td>\n",
       "      <td>0.400652</td>\n",
       "      <td>43971200.0</td>\n",
       "    </tr>\n",
       "    <tr>\n",
       "      <th>1980-12-16</th>\n",
       "      <td>25.37</td>\n",
       "      <td>25.37</td>\n",
       "      <td>25.25</td>\n",
       "      <td>25.25</td>\n",
       "      <td>472000.0</td>\n",
       "      <td>0.0</td>\n",
       "      <td>1.0</td>\n",
       "      <td>0.373010</td>\n",
       "      <td>0.373010</td>\n",
       "      <td>0.371246</td>\n",
       "      <td>0.371246</td>\n",
       "      <td>26432000.0</td>\n",
       "    </tr>\n",
       "    <tr>\n",
       "      <th>1980-12-17</th>\n",
       "      <td>25.87</td>\n",
       "      <td>26.00</td>\n",
       "      <td>25.87</td>\n",
       "      <td>25.87</td>\n",
       "      <td>385900.0</td>\n",
       "      <td>0.0</td>\n",
       "      <td>1.0</td>\n",
       "      <td>0.380362</td>\n",
       "      <td>0.382273</td>\n",
       "      <td>0.380362</td>\n",
       "      <td>0.380362</td>\n",
       "      <td>21610400.0</td>\n",
       "    </tr>\n",
       "    <tr>\n",
       "      <th>1980-12-18</th>\n",
       "      <td>26.63</td>\n",
       "      <td>26.75</td>\n",
       "      <td>26.63</td>\n",
       "      <td>26.63</td>\n",
       "      <td>327900.0</td>\n",
       "      <td>0.0</td>\n",
       "      <td>1.0</td>\n",
       "      <td>0.391536</td>\n",
       "      <td>0.393300</td>\n",
       "      <td>0.391536</td>\n",
       "      <td>0.391536</td>\n",
       "      <td>18362400.0</td>\n",
       "    </tr>\n",
       "  </tbody>\n",
       "</table>\n",
       "</div>"
      ],
      "text/plain": [
       "             Open   High    Low  Close     Volume  Ex-Dividend  Split Ratio  \\\n",
       "Date                                                                          \n",
       "1980-12-12  28.75  28.87  28.75  28.75  2093900.0          0.0          1.0   \n",
       "1980-12-15  27.38  27.38  27.25  27.25   785200.0          0.0          1.0   \n",
       "1980-12-16  25.37  25.37  25.25  25.25   472000.0          0.0          1.0   \n",
       "1980-12-17  25.87  26.00  25.87  25.87   385900.0          0.0          1.0   \n",
       "1980-12-18  26.63  26.75  26.63  26.63   327900.0          0.0          1.0   \n",
       "\n",
       "            Adj. Open  Adj. High  Adj. Low  Adj. Close  Adj. Volume  \n",
       "Date                                                                 \n",
       "1980-12-12   0.422706   0.424470  0.422706    0.422706  117258400.0  \n",
       "1980-12-15   0.402563   0.402563  0.400652    0.400652   43971200.0  \n",
       "1980-12-16   0.373010   0.373010  0.371246    0.371246   26432000.0  \n",
       "1980-12-17   0.380362   0.382273  0.380362    0.380362   21610400.0  \n",
       "1980-12-18   0.391536   0.393300  0.391536    0.391536   18362400.0  "
      ]
     },
     "execution_count": 3,
     "metadata": {},
     "output_type": "execute_result"
    }
   ],
   "source": [
    "df.head()"
   ]
  },
  {
   "cell_type": "markdown",
   "metadata": {},
   "source": [
    "#### Data Exploration"
   ]
  },
  {
   "cell_type": "code",
   "execution_count": 4,
   "metadata": {},
   "outputs": [
    {
     "data": {
      "image/png": "[encoded data removed]",
      "text/plain": [
       "<Figure size 1296x432 with 1 Axes>"
      ]
     },
     "metadata": {},
     "output_type": "display_data"
    }
   ],
   "source": [
    "# Import matplotlib package for date plots\n",
    "import matplotlib.dates as mdates\n",
    "\n",
    "df.reset_index(inplace = True)\n",
    "years = mdates.YearLocator() # Get every year\n",
    "yearsFmt = mdates.DateFormatter('%Y') # Set year format\n",
    "\n",
    "# Create subplots to plot graph and control axes\n",
    "fig, ax = plt.subplots(figsize=(18, 6))\n",
    "ax.plot(df['Date'], df['Close'])\n",
    "\n",
    "# Format the ticks\n",
    "ax.xaxis.set_major_locator(years)\n",
    "ax.xaxis.set_major_formatter(yearsFmt)\n",
    "\n",
    "# Set figure title\n",
    "plt.title('Close Stock Price History [1981 - 2018]', fontsize=16)\n",
    "# Set x label\n",
    "plt.xlabel('Date', fontsize=14)\n",
    "# Set y label\n",
    "plt.ylabel('Closing Stock Price in $', fontsize=14)\n",
    "\n",
    "# Rotate and align the x labels\n",
    "fig.autofmt_xdate()\n",
    "\n",
    "# Show plot\n",
    "plt.show()"
   ]
  },
  {
   "cell_type": "markdown",
   "metadata": {},
   "source": [
    "#### Feature Engineering"
   ]
  },
  {
   "cell_type": "code",
   "execution_count": 5,
   "metadata": {},
   "outputs": [],
   "source": [
    "df['HL_PCT']= (df['High']-df['Low'])/df['Low']\n",
    "df['PCT_change']= (df['Adj. Close']-df['Open'])/df['Open']"
   ]
  },
  {
   "cell_type": "code",
   "execution_count": 6,
   "metadata": {},
   "outputs": [
    {
     "data": {
      "text/html": [
       "<div>\n",
       "<style scoped>\n",
       "    .dataframe tbody tr th:only-of-type {\n",
       "        vertical-align: middle;\n",
       "    }\n",
       "\n",
       "    .dataframe tbody tr th {\n",
       "        vertical-align: top;\n",
       "    }\n",
       "\n",
       "    .dataframe thead th {\n",
       "        text-align: right;\n",
       "    }\n",
       "</style>\n",
       "<table border=\"1\" class=\"dataframe\">\n",
       "  <thead>\n",
       "    <tr style=\"text-align: right;\">\n",
       "      <th></th>\n",
       "      <th>Open</th>\n",
       "      <th>High</th>\n",
       "      <th>Low</th>\n",
       "      <th>Close</th>\n",
       "      <th>Volume</th>\n",
       "      <th>Ex-Dividend</th>\n",
       "      <th>Split Ratio</th>\n",
       "      <th>Adj. Open</th>\n",
       "      <th>Adj. High</th>\n",
       "      <th>Adj. Low</th>\n",
       "      <th>Adj. Close</th>\n",
       "      <th>Adj. Volume</th>\n",
       "      <th>HL_PCT</th>\n",
       "      <th>PCT_change</th>\n",
       "    </tr>\n",
       "  </thead>\n",
       "  <tbody>\n",
       "    <tr>\n",
       "      <th>count</th>\n",
       "      <td>9400.000000</td>\n",
       "      <td>9400.000000</td>\n",
       "      <td>9400.000000</td>\n",
       "      <td>9400.000000</td>\n",
       "      <td>9.400000e+03</td>\n",
       "      <td>9400.000000</td>\n",
       "      <td>9400.000000</td>\n",
       "      <td>9400.000000</td>\n",
       "      <td>9400.000000</td>\n",
       "      <td>9400.000000</td>\n",
       "      <td>9400.000000</td>\n",
       "      <td>9.400000e+03</td>\n",
       "      <td>9400.000000</td>\n",
       "      <td>9400.000000</td>\n",
       "    </tr>\n",
       "    <tr>\n",
       "      <th>mean</th>\n",
       "      <td>101.233437</td>\n",
       "      <td>102.466958</td>\n",
       "      <td>99.896250</td>\n",
       "      <td>101.194472</td>\n",
       "      <td>1.198560e+07</td>\n",
       "      <td>0.003633</td>\n",
       "      <td>1.000957</td>\n",
       "      <td>21.571019</td>\n",
       "      <td>21.774929</td>\n",
       "      <td>21.351252</td>\n",
       "      <td>21.567664</td>\n",
       "      <td>8.860156e+07</td>\n",
       "      <td>0.033287</td>\n",
       "      <td>-0.847369</td>\n",
       "    </tr>\n",
       "    <tr>\n",
       "      <th>std</th>\n",
       "      <td>135.169307</td>\n",
       "      <td>136.294005</td>\n",
       "      <td>133.829528</td>\n",
       "      <td>135.087350</td>\n",
       "      <td>1.662310e+07</td>\n",
       "      <td>0.088269</td>\n",
       "      <td>0.064409</td>\n",
       "      <td>39.272529</td>\n",
       "      <td>39.584888</td>\n",
       "      <td>38.942651</td>\n",
       "      <td>39.271266</td>\n",
       "      <td>8.704777e+07</td>\n",
       "      <td>0.023386</td>\n",
       "      <td>0.279816</td>\n",
       "    </tr>\n",
       "    <tr>\n",
       "      <th>min</th>\n",
       "      <td>11.120000</td>\n",
       "      <td>11.120000</td>\n",
       "      <td>11.000000</td>\n",
       "      <td>11.000000</td>\n",
       "      <td>4.471000e+03</td>\n",
       "      <td>0.000000</td>\n",
       "      <td>1.000000</td>\n",
       "      <td>0.163495</td>\n",
       "      <td>0.163495</td>\n",
       "      <td>0.161731</td>\n",
       "      <td>0.161731</td>\n",
       "      <td>2.503760e+05</td>\n",
       "      <td>0.000000</td>\n",
       "      <td>-0.987032</td>\n",
       "    </tr>\n",
       "    <tr>\n",
       "      <th>25%</th>\n",
       "      <td>27.000000</td>\n",
       "      <td>27.500000</td>\n",
       "      <td>26.500000</td>\n",
       "      <td>27.000000</td>\n",
       "      <td>1.232075e+06</td>\n",
       "      <td>0.000000</td>\n",
       "      <td>1.000000</td>\n",
       "      <td>0.923453</td>\n",
       "      <td>0.940280</td>\n",
       "      <td>0.904096</td>\n",
       "      <td>0.922730</td>\n",
       "      <td>3.461080e+07</td>\n",
       "      <td>0.017750</td>\n",
       "      <td>-0.969913</td>\n",
       "    </tr>\n",
       "    <tr>\n",
       "      <th>50%</th>\n",
       "      <td>43.750000</td>\n",
       "      <td>44.500000</td>\n",
       "      <td>43.000000</td>\n",
       "      <td>43.880000</td>\n",
       "      <td>3.776200e+06</td>\n",
       "      <td>0.000000</td>\n",
       "      <td>1.000000</td>\n",
       "      <td>1.437461</td>\n",
       "      <td>1.468272</td>\n",
       "      <td>1.410762</td>\n",
       "      <td>1.437445</td>\n",
       "      <td>6.069700e+07</td>\n",
       "      <td>0.028302</td>\n",
       "      <td>-0.967056</td>\n",
       "    </tr>\n",
       "    <tr>\n",
       "      <th>75%</th>\n",
       "      <td>110.120000</td>\n",
       "      <td>111.755000</td>\n",
       "      <td>108.747500</td>\n",
       "      <td>110.060000</td>\n",
       "      <td>1.808312e+07</td>\n",
       "      <td>0.000000</td>\n",
       "      <td>1.000000</td>\n",
       "      <td>20.270182</td>\n",
       "      <td>20.565604</td>\n",
       "      <td>19.905845</td>\n",
       "      <td>20.294924</td>\n",
       "      <td>1.109031e+08</td>\n",
       "      <td>0.042373</td>\n",
       "      <td>-0.871624</td>\n",
       "    </tr>\n",
       "    <tr>\n",
       "      <th>max</th>\n",
       "      <td>702.410000</td>\n",
       "      <td>705.070000</td>\n",
       "      <td>699.570000</td>\n",
       "      <td>702.100000</td>\n",
       "      <td>1.895606e+08</td>\n",
       "      <td>3.290000</td>\n",
       "      <td>7.000000</td>\n",
       "      <td>182.590000</td>\n",
       "      <td>183.500000</td>\n",
       "      <td>180.210000</td>\n",
       "      <td>181.720000</td>\n",
       "      <td>1.855410e+09</td>\n",
       "      <td>0.359155</td>\n",
       "      <td>0.052961</td>\n",
       "    </tr>\n",
       "  </tbody>\n",
       "</table>\n",
       "</div>"
      ],
      "text/plain": [
       "              Open         High          Low        Close        Volume  \\\n",
       "count  9400.000000  9400.000000  9400.000000  9400.000000  9.400000e+03   \n",
       "mean    101.233437   102.466958    99.896250   101.194472  1.198560e+07   \n",
       "std     135.169307   136.294005   133.829528   135.087350  1.662310e+07   \n",
       "min      11.120000    11.120000    11.000000    11.000000  4.471000e+03   \n",
       "25%      27.000000    27.500000    26.500000    27.000000  1.232075e+06   \n",
       "50%      43.750000    44.500000    43.000000    43.880000  3.776200e+06   \n",
       "75%     110.120000   111.755000   108.747500   110.060000  1.808312e+07   \n",
       "max     702.410000   705.070000   699.570000   702.100000  1.895606e+08   \n",
       "\n",
       "       Ex-Dividend  Split Ratio    Adj. Open    Adj. High     Adj. Low  \\\n",
       "count  9400.000000  9400.000000  9400.000000  9400.000000  9400.000000   \n",
       "mean      0.003633     1.000957    21.571019    21.774929    21.351252   \n",
       "std       0.088269     0.064409    39.272529    39.584888    38.942651   \n",
       "min       0.000000     1.000000     0.163495     0.163495     0.161731   \n",
       "25%       0.000000     1.000000     0.923453     0.940280     0.904096   \n",
       "50%       0.000000     1.000000     1.437461     1.468272     1.410762   \n",
       "75%       0.000000     1.000000    20.270182    20.565604    19.905845   \n",
       "max       3.290000     7.000000   182.590000   183.500000   180.210000   \n",
       "\n",
       "        Adj. Close   Adj. Volume       HL_PCT   PCT_change  \n",
       "count  9400.000000  9.400000e+03  9400.000000  9400.000000  \n",
       "mean     21.567664  8.860156e+07     0.033287    -0.847369  \n",
       "std      39.271266  8.704777e+07     0.023386     0.279816  \n",
       "min       0.161731  2.503760e+05     0.000000    -0.987032  \n",
       "25%       0.922730  3.461080e+07     0.017750    -0.969913  \n",
       "50%       1.437445  6.069700e+07     0.028302    -0.967056  \n",
       "75%      20.294924  1.109031e+08     0.042373    -0.871624  \n",
       "max     181.720000  1.855410e+09     0.359155     0.052961  "
      ]
     },
     "execution_count": 6,
     "metadata": {},
     "output_type": "execute_result"
    }
   ],
   "source": [
    "# Get descriptive statistics summary of data set \n",
    "df.describe()"
   ]
  },
  {
   "cell_type": "code",
   "execution_count": 7,
   "metadata": {},
   "outputs": [],
   "source": [
    "drop_cols = ['Adj. Open', 'Adj. High', 'Adj. Low', 'Adj. Close', 'Adj. Volume']\n",
    "df.drop(drop_cols, 1, inplace = True)"
   ]
  },
  {
   "cell_type": "markdown",
   "metadata": {},
   "source": [
    "#### Create Target variable"
   ]
  },
  {
   "cell_type": "code",
   "execution_count": 8,
   "metadata": {},
   "outputs": [],
   "source": [
    "df['Target']= df['Close'].shift(-1)"
   ]
  },
  {
   "cell_type": "code",
   "execution_count": 9,
   "metadata": {},
   "outputs": [
    {
     "data": {
      "text/html": [
       "<div>\n",
       "<style scoped>\n",
       "    .dataframe tbody tr th:only-of-type {\n",
       "        vertical-align: middle;\n",
       "    }\n",
       "\n",
       "    .dataframe tbody tr th {\n",
       "        vertical-align: top;\n",
       "    }\n",
       "\n",
       "    .dataframe thead th {\n",
       "        text-align: right;\n",
       "    }\n",
       "</style>\n",
       "<table border=\"1\" class=\"dataframe\">\n",
       "  <thead>\n",
       "    <tr style=\"text-align: right;\">\n",
       "      <th></th>\n",
       "      <th>Date</th>\n",
       "      <th>Open</th>\n",
       "      <th>High</th>\n",
       "      <th>Low</th>\n",
       "      <th>Close</th>\n",
       "      <th>Volume</th>\n",
       "      <th>Ex-Dividend</th>\n",
       "      <th>Split Ratio</th>\n",
       "      <th>HL_PCT</th>\n",
       "      <th>PCT_change</th>\n",
       "      <th>Target</th>\n",
       "    </tr>\n",
       "  </thead>\n",
       "  <tbody>\n",
       "    <tr>\n",
       "      <th>9395</th>\n",
       "      <td>2018-03-21</td>\n",
       "      <td>175.04</td>\n",
       "      <td>175.09</td>\n",
       "      <td>171.26</td>\n",
       "      <td>171.270</td>\n",
       "      <td>35247358.0</td>\n",
       "      <td>0.0</td>\n",
       "      <td>1.0</td>\n",
       "      <td>0.022364</td>\n",
       "      <td>-0.021538</td>\n",
       "      <td>168.845</td>\n",
       "    </tr>\n",
       "    <tr>\n",
       "      <th>9396</th>\n",
       "      <td>2018-03-22</td>\n",
       "      <td>170.00</td>\n",
       "      <td>172.68</td>\n",
       "      <td>168.60</td>\n",
       "      <td>168.845</td>\n",
       "      <td>41051076.0</td>\n",
       "      <td>0.0</td>\n",
       "      <td>1.0</td>\n",
       "      <td>0.024199</td>\n",
       "      <td>-0.006794</td>\n",
       "      <td>164.940</td>\n",
       "    </tr>\n",
       "    <tr>\n",
       "      <th>9397</th>\n",
       "      <td>2018-03-23</td>\n",
       "      <td>168.39</td>\n",
       "      <td>169.92</td>\n",
       "      <td>164.94</td>\n",
       "      <td>164.940</td>\n",
       "      <td>40248954.0</td>\n",
       "      <td>0.0</td>\n",
       "      <td>1.0</td>\n",
       "      <td>0.030193</td>\n",
       "      <td>-0.020488</td>\n",
       "      <td>172.770</td>\n",
       "    </tr>\n",
       "    <tr>\n",
       "      <th>9398</th>\n",
       "      <td>2018-03-26</td>\n",
       "      <td>168.07</td>\n",
       "      <td>173.10</td>\n",
       "      <td>166.44</td>\n",
       "      <td>172.770</td>\n",
       "      <td>36272617.0</td>\n",
       "      <td>0.0</td>\n",
       "      <td>1.0</td>\n",
       "      <td>0.040014</td>\n",
       "      <td>0.027965</td>\n",
       "      <td>168.340</td>\n",
       "    </tr>\n",
       "    <tr>\n",
       "      <th>9399</th>\n",
       "      <td>2018-03-27</td>\n",
       "      <td>173.68</td>\n",
       "      <td>175.15</td>\n",
       "      <td>166.92</td>\n",
       "      <td>168.340</td>\n",
       "      <td>38962839.0</td>\n",
       "      <td>0.0</td>\n",
       "      <td>1.0</td>\n",
       "      <td>0.049305</td>\n",
       "      <td>-0.030746</td>\n",
       "      <td>NaN</td>\n",
       "    </tr>\n",
       "  </tbody>\n",
       "</table>\n",
       "</div>"
      ],
      "text/plain": [
       "           Date    Open    High     Low    Close      Volume  Ex-Dividend  \\\n",
       "9395 2018-03-21  175.04  175.09  171.26  171.270  35247358.0          0.0   \n",
       "9396 2018-03-22  170.00  172.68  168.60  168.845  41051076.0          0.0   \n",
       "9397 2018-03-23  168.39  169.92  164.94  164.940  40248954.0          0.0   \n",
       "9398 2018-03-26  168.07  173.10  166.44  172.770  36272617.0          0.0   \n",
       "9399 2018-03-27  173.68  175.15  166.92  168.340  38962839.0          0.0   \n",
       "\n",
       "      Split Ratio    HL_PCT  PCT_change   Target  \n",
       "9395          1.0  0.022364   -0.021538  168.845  \n",
       "9396          1.0  0.024199   -0.006794  164.940  \n",
       "9397          1.0  0.030193   -0.020488  172.770  \n",
       "9398          1.0  0.040014    0.027965  168.340  \n",
       "9399          1.0  0.049305   -0.030746      NaN  "
      ]
     },
     "execution_count": 9,
     "metadata": {},
     "output_type": "execute_result"
    }
   ],
   "source": [
    "df.tail()"
   ]
  },
  {
   "cell_type": "code",
   "execution_count": 10,
   "metadata": {},
   "outputs": [],
   "source": [
    "# removing rows with Nan as targets\n",
    "df = df[df['Target'].notna()]"
   ]
  },
  {
   "cell_type": "code",
   "execution_count": 11,
   "metadata": {},
   "outputs": [
    {
     "data": {
      "text/plain": [
       "False"
      ]
     },
     "execution_count": 11,
     "metadata": {},
     "output_type": "execute_result"
    }
   ],
   "source": [
    "# Check for missing values in the columns\n",
    "df.isna().values.any()"
   ]
  },
  {
   "cell_type": "code",
   "execution_count": 12,
   "metadata": {},
   "outputs": [],
   "source": [
    "df.reset_index(inplace = True)\n",
    "df.drop('Date', 1, inplace = True)"
   ]
  },
  {
   "cell_type": "markdown",
   "metadata": {},
   "source": [
    "#### Test Train Splits"
   ]
  },
  {
   "cell_type": "code",
   "execution_count": 13,
   "metadata": {},
   "outputs": [],
   "source": [
    "df_train = df[:9100]\n",
    "df_test = df[9100:]"
   ]
  },
  {
   "cell_type": "code",
   "execution_count": 14,
   "metadata": {},
   "outputs": [],
   "source": [
    "Y_train = df_train['Target']\n",
    "X_train = df_train.drop('Target', 1)"
   ]
  },
  {
   "cell_type": "code",
   "execution_count": 15,
   "metadata": {},
   "outputs": [],
   "source": [
    "Y_test = df_test['Target']\n",
    "X_test = df_test.drop('Target', 1)"
   ]
  },
  {
   "cell_type": "markdown",
   "metadata": {},
   "source": [
    "#### Model Training"
   ]
  },
  {
   "cell_type": "code",
   "execution_count": 16,
   "metadata": {},
   "outputs": [],
   "source": [
    "from ngboost import NGBRegressor\n",
    "from ngboost.learners import default_tree_learner\n",
    "from ngboost.distns import Normal\n",
    "from ngboost.scores import MLE"
   ]
  },
  {
   "cell_type": "code",
   "execution_count": 17,
   "metadata": {},
   "outputs": [
    {
     "name": "stdout",
     "output_type": "stream",
     "text": [
      "[iter 0] loss=6.3381 val_loss=0.0000 scale=0.0625 norm=4.7454\n",
      "[iter 100] loss=6.1708 val_loss=0.0000 scale=0.0625 norm=4.4043\n",
      "[iter 200] loss=6.0863 val_loss=0.0000 scale=0.0625 norm=4.1221\n",
      "[iter 300] loss=6.0275 val_loss=0.0000 scale=0.0625 norm=3.8798\n",
      "[iter 400] loss=5.9801 val_loss=0.0000 scale=0.0625 norm=3.6660\n",
      "[iter 500] loss=5.9386 val_loss=0.0000 scale=0.0625 norm=3.4735\n",
      "[iter 600] loss=5.9006 val_loss=0.0000 scale=0.0625 norm=3.2971\n",
      "[iter 700] loss=5.8648 val_loss=0.0000 scale=0.0625 norm=3.1346\n",
      "[iter 800] loss=5.8304 val_loss=0.0000 scale=0.0625 norm=2.9834\n",
      "[iter 900] loss=5.7970 val_loss=0.0000 scale=0.0625 norm=2.8420\n",
      "[iter 1000] loss=5.7643 val_loss=0.0000 scale=0.0625 norm=2.7093\n",
      "[iter 1100] loss=5.7321 val_loss=0.0000 scale=0.0625 norm=2.5843\n",
      "[iter 1200] loss=5.6865 val_loss=0.0000 scale=0.1250 norm=4.8310\n",
      "[iter 1300] loss=5.6238 val_loss=0.0000 scale=0.1250 norm=4.4031\n",
      "[iter 1400] loss=5.5616 val_loss=0.0000 scale=0.1250 norm=4.0147\n",
      "[iter 1500] loss=5.4998 val_loss=0.0000 scale=0.1250 norm=3.6605\n",
      "[iter 1600] loss=5.4381 val_loss=0.0000 scale=0.1250 norm=3.3390\n",
      "[iter 1700] loss=5.3765 val_loss=0.0000 scale=0.1250 norm=3.0458\n",
      "[iter 1800] loss=5.3150 val_loss=0.0000 scale=0.1250 norm=2.7803\n",
      "[iter 1900] loss=5.2503 val_loss=0.0000 scale=0.1250 norm=2.5267\n",
      "[iter 2000] loss=5.1302 val_loss=0.0000 scale=0.2500 norm=4.2289\n",
      "[iter 2100] loss=5.0070 val_loss=0.0000 scale=0.2500 norm=3.5191\n",
      "[iter 2200] loss=4.8836 val_loss=0.0000 scale=0.2500 norm=2.9305\n",
      "[iter 2300] loss=4.7208 val_loss=0.0000 scale=0.5000 norm=4.6027\n",
      "[iter 2400] loss=4.4744 val_loss=0.0000 scale=0.5000 norm=3.2224\n",
      "[iter 2500] loss=4.0767 val_loss=0.0000 scale=1.0000 norm=3.7768\n",
      "[iter 2600] loss=3.0817 val_loss=0.0000 scale=4.0000 norm=7.1778\n",
      "[iter 2700] loss=2.1817 val_loss=0.0000 scale=2.0000 norm=3.2101\n",
      "[iter 2800] loss=1.8212 val_loss=0.0000 scale=2.0000 norm=3.1701\n",
      "[iter 2900] loss=1.7222 val_loss=0.0000 scale=2.0000 norm=3.1718\n",
      "[iter 3000] loss=1.6974 val_loss=0.0000 scale=1.0000 norm=1.5808\n",
      "[iter 3100] loss=1.6808 val_loss=0.0000 scale=1.0000 norm=1.5721\n",
      "[iter 3200] loss=1.6691 val_loss=0.0000 scale=1.0000 norm=1.5637\n",
      "[iter 3300] loss=1.6602 val_loss=0.0000 scale=1.0000 norm=1.5561\n",
      "[iter 3400] loss=1.6528 val_loss=0.0000 scale=1.0000 norm=1.5472\n",
      "[iter 3500] loss=1.6452 val_loss=0.0000 scale=1.0000 norm=1.5370\n",
      "[iter 3600] loss=1.6377 val_loss=0.0000 scale=1.0000 norm=1.5277\n",
      "[iter 3700] loss=1.6327 val_loss=0.0000 scale=1.0000 norm=1.5206\n",
      "[iter 3800] loss=1.6275 val_loss=0.0000 scale=1.0000 norm=1.5134\n",
      "[iter 3900] loss=1.6209 val_loss=0.0000 scale=1.0000 norm=1.5057\n"
     ]
    }
   ],
   "source": [
    "ngb = NGBRegressor(n_estimators=4000,\n",
    "                    Dist=Normal, Score=MLE).fit(X_train.values, np.array(Y_train))\n",
    "Y_preds = ngb.predict(X_test.values)\n",
    "Y_dists = ngb.pred_dist(X_test.values)"
   ]
  },
  {
   "cell_type": "markdown",
   "metadata": {},
   "source": [
    "#### Model Evaluation"
   ]
  },
  {
   "cell_type": "code",
   "execution_count": 18,
   "metadata": {},
   "outputs": [
    {
     "name": "stdout",
     "output_type": "stream",
     "text": [
      "Test MSE 24418795468.917675\n"
     ]
    }
   ],
   "source": [
    "# test Mean Squared Error\n",
    "test_MSE = mean_squared_error(Y_preds, Y_test*1000)\n",
    "print('Test MSE', test_MSE)"
   ]
  },
  {
   "cell_type": "code",
   "execution_count": 19,
   "metadata": {},
   "outputs": [
    {
     "name": "stdout",
     "output_type": "stream",
     "text": [
      "Test NLL 10089614485.368988\n"
     ]
    }
   ],
   "source": [
    "# test Negative Log Likelihood\n",
    "test_NLL = -Y_dists.logpdf(Y_test*1000).mean()\n",
    "print('Test NLL', test_NLL)"
   ]
  },
  {
   "cell_type": "markdown",
   "metadata": {},
   "source": [
    "#### Plotting NGboost's probabilistic predictions"
   ]
  },
  {
   "cell_type": "code",
   "execution_count": 20,
   "metadata": {},
   "outputs": [
    {
     "name": "stdout",
     "output_type": "stream",
     "text": [
      "P(y_0|x_0) is normally distributed with loc=118.40 and scale=0.98\n",
      "P(y_1|x_1) is normally distributed with loc=119.16 and scale=1.13\n"
     ]
    }
   ],
   "source": [
    "obs_idx = [0,1]\n",
    "Y_test = np.array(Y_test)\n",
    "dist = ngb.pred_dist(X_test.values)\n",
    "print('P(y_0|x_0) is normally distributed with loc={:.2f} and scale={:.2f}'.format(dist.loc[0], dist.scale[0]))\n",
    "print('P(y_1|x_1) is normally distributed with loc={:.2f} and scale={:.2f}'.format(dist.loc[1], dist.scale[1]))"
   ]
  },
  {
   "cell_type": "code",
   "execution_count": 21,
   "metadata": {},
   "outputs": [
    {
     "name": "stdout",
     "output_type": "stream",
     "text": [
      "118.39993839189991\n",
      "0.9845545549852913\n",
      "120.0\n",
      "----------\n",
      "119.15984368007369\n",
      "1.1284132711582175\n",
      "119.99\n",
      "----------\n"
     ]
    }
   ],
   "source": [
    "for i in range(2):\n",
    "    print(dist.loc[i]), print(dist.scale[i]), print(Y_test[i]), print('----------')"
   ]
  },
  {
   "cell_type": "code",
   "execution_count": 22,
   "metadata": {},
   "outputs": [
    {
     "data": {
      "image/png": "[encoded data removed]",
      "text/plain": [
       "<Figure size 432x288 with 1 Axes>"
      ]
     },
     "metadata": {},
     "output_type": "display_data"
    }
   ],
   "source": [
    "x = np.linspace(0, 20, 20)\n",
    "y = dist.loc[10:30]\n",
    "error = dist.scale[10:30]\n",
    "\n",
    "plt.plot(x, y, 'k-')\n",
    "plt.fill_between(x, y-error, y+error)\n",
    "plt.plot(Y_test[10:30], color=\"red\")\n",
    "plt.show()"
   ]
  },
  {
   "cell_type": "code",
   "execution_count": 23,
   "metadata": {},
   "outputs": [
    {
     "data": {
      "image/png": "[encoded data removed]",
      "text/plain": [
       "<Figure size 432x288 with 1 Axes>"
      ]
     },
     "metadata": {},
     "output_type": "display_data"
    }
   ],
   "source": [
    "x = np.linspace(0, 20, 20)\n",
    "y = dist.loc[10:30]\n",
    "error = dist.scale[10:30]\n",
    "\n",
    "plt.plot(x, y, 'k-')\n",
    "plt.show()"
   ]
  },
  {
   "cell_type": "markdown",
   "metadata": {},
   "source": [
    "---------------------------------------------------------------------------------------------------------------"
   ]
  }
 ],
 "metadata": {
  "kernelspec": {
   "display_name": "Python 3",
   "language": "python",
   "name": "python3"
  },
  "language_info": {
   "codemirror_mode": {
    "name": "ipython",
    "version": 3
   },
   "file_extension": ".py",
   "mimetype": "text/x-python",
   "name": "python",
   "nbconvert_exporter": "python",
   "pygments_lexer": "ipython3",
   "version": "3.6.5"
  }
 },
 "nbformat": 4,
 "nbformat_minor": 2
}
