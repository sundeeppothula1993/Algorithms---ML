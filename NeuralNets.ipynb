{
 "cells": [
  {
   "cell_type": "code",
   "execution_count": 1,
   "metadata": {},
   "outputs": [],
   "source": [
    "import numpy as np"
   ]
  },
  {
   "cell_type": "markdown",
   "metadata": {},
   "source": [
    "## Define the Network Architechture"
   ]
  },
  {
   "cell_type": "code",
   "execution_count": 83,
   "metadata": {},
   "outputs": [],
   "source": [
    "def neuralnet_architechture(*args, activation):\n",
    "    neural_net_len = len(args)\n",
    "    NN_ARCHITECTURE = []\n",
    "    for i in range(neural_net_len-1):\n",
    "        layer = dict.fromkeys(['input_dim', 'output_dim', 'activation'])\n",
    "        layer['input_dim'] = args[i]\n",
    "        layer['output_dim'] = args[i+1]\n",
    "        layer['activation'] = activation\n",
    "        NN_ARCHITECTURE.append(layer)\n",
    "    NN_ARCHITECTURE[i]['activation'] = 'sigmoid'\n",
    "    return NN_ARCHITECTURE"
   ]
  },
  {
   "cell_type": "code",
   "execution_count": 84,
   "metadata": {},
   "outputs": [],
   "source": [
    "NN_ARCHITECTURE = neuralnet_architechture(2, 25, 50, 50, 25, 1, activation = 'relu')"
   ]
  },
  {
   "cell_type": "markdown",
   "metadata": {},
   "source": [
    "## Initialize with Random weights"
   ]
  },
  {
   "cell_type": "code",
   "execution_count": 111,
   "metadata": {},
   "outputs": [],
   "source": [
    "def random_initialization(NN_ARCHITECTURE, seed= 100):\n",
    "    np.random.seed(seed)\n",
    "    \n",
    "    no_of_layers = len(NN_ARCHITECTURE)\n",
    "    \n",
    "    parameters = {}\n",
    "    \n",
    "    for idx, layer in enumerate(NN_ARCHITECTURE): \n",
    "        print(idx, layer)\n",
    "        \n",
    "        layer_index = idx+1\n",
    "        \n",
    "        layer_input_size = layer[\"input_dim\"]\n",
    "        layer_output_size = layer[\"output_dim\"]\n",
    "        \n",
    "        parameters['W'+ str(layer_index)] = np.random.randn(layer_output_size, layer_input_size) * 0.1\n",
    "        parameters['b' + str(layer_index)] = np.random.randn(layer_output_size, 1) * 0.1\n",
    "    \n",
    "    return parameters"
   ]
  },
  {
   "cell_type": "code",
   "execution_count": 113,
   "metadata": {},
   "outputs": [],
   "source": [
    "# random_initialization(NN_ARCHITECTURE)"
   ]
  },
  {
   "cell_type": "code",
   "execution_count": 109,
   "metadata": {},
   "outputs": [],
   "source": [
    "# !['title'] (https://cdn-images-1.medium.com/max/1200/1*0NKtEk20-qnaLkwOa8DlnA.png)"
   ]
  },
  {
   "cell_type": "code",
   "execution_count": 119,
   "metadata": {},
   "outputs": [],
   "source": [
    "def sigmoid(X):\n",
    "    return 1/(1+np.exp(-X))\n",
    "\n",
    "def relu(X):\n",
    "    return np.maximum(0,X)\n",
    "\n",
    "def sigmoid_backward(dA, X):\n",
    "    sig = sigmoid(X)\n",
    "    return dA * sig * (1 - sig)\n",
    "\n",
    "def relu_backward(dA, X):\n",
    "    dZ = np.array(dA, copy = True)\n",
    "    dZ[X <= 0] = 0;\n",
    "    return dZ;"
   ]
  },
  {
   "cell_type": "code",
   "execution_count": 120,
   "metadata": {},
   "outputs": [],
   "source": [
    "def forward_prop(input_, Weights, bias, activation):\n",
    "    \n",
    "    output_ = np.dot(input_, Weights) + bias\n",
    "    \n",
    "    return activation(output_), output_\n"
   ]
  },
  {
   "cell_type": "code",
   "execution_count": 121,
   "metadata": {},
   "outputs": [],
   "source": [
    "def forward_propogation(inputs, parameters, NN_ARCHITECTURE):\n",
    "    \n",
    "    memory = []\n",
    "    \n",
    "    output_ = inputs\n",
    "    \n",
    "    for idx, layer in enumerate(NN_ARCHITECTURE):\n",
    "        \n",
    "        layer_index = idx + 1\n",
    "        \n",
    "        input_ = output_\n",
    "        Weights = parameters['W'+ str(layer_index)]\n",
    "        bias = parameters['b'+ str(layer_index)]\n",
    "        \n",
    "        output_ = forward_prop(input_, Weights, bias, activation)\n",
    "        \n",
    "        memory['layer' + str(layer_index)] = output_\n",
    "        \n",
    "    return memory"
   ]
  },
  {
   "cell_type": "markdown",
   "metadata": {},
   "source": [
    "### Calculating Cost function"
   ]
  },
  {
   "cell_type": "code",
   "execution_count": 122,
   "metadata": {},
   "outputs": [],
   "source": [
    "def get_cost_value(Y_hat, Y):\n",
    "    # number of examples\n",
    "    m = Y_hat.shape[1]\n",
    "    # calculation of the cost according to the formula\n",
    "    cost = -1 / m * (np.dot(Y, np.log(Y_hat).T) + np.dot(1 - Y, np.log(1 - Y_hat).T))\n",
    "    return np.squeeze(cost)"
   ]
  }
 ],
 "metadata": {
  "kernelspec": {
   "display_name": "Python 3",
   "language": "python",
   "name": "python3"
  },
  "language_info": {
   "codemirror_mode": {
    "name": "ipython",
    "version": 3
   },
   "file_extension": ".py",
   "mimetype": "text/x-python",
   "name": "python",
   "nbconvert_exporter": "python",
   "pygments_lexer": "ipython3",
   "version": "3.6.5"
  }
 },
 "nbformat": 4,
 "nbformat_minor": 2
}
